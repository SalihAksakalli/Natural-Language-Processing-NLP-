{
 "cells": [
  {
   "cell_type": "code",
   "execution_count": null,
   "id": "1fe9898b-4b66-4e44-bbb5-9331c15d20ed",
   "metadata": {},
   "outputs": [
    {
     "name": "stdout",
     "output_type": "stream",
     "text": [
      "showing info https://raw.githubusercontent.com/nltk/nltk_data/gh-pages/index.xml\n"
     ]
    }
   ],
   "source": [
    "import nltk\n",
    "nltk.download()"
   ]
  },
  {
   "cell_type": "code",
   "execution_count": 1,
   "id": "706b0668-46bf-455c-9583-c5c79df8f84a",
   "metadata": {},
   "outputs": [],
   "source": [
    "from nltk.tokenize import sent_tokenize,word_tokenize"
   ]
  },
  {
   "cell_type": "code",
   "execution_count": 2,
   "id": "e1f72daf-1521-4ae3-ae1e-2ba2df01aa49",
   "metadata": {},
   "outputs": [],
   "source": [
    "text = \"Alan Turing, İngiliz matematikçi, bilgisayar bilimci ve kriptolog. Bilgisayar biliminin kurucusu sayılır. Geliştirmiş olduğu Turing testi ile makinelerin ve bilgisayarların düşünme yetisine sahip olup olamayacakları konusunda bir kriter öne sürmüştür.\""
   ]
  },
  {
   "cell_type": "code",
   "execution_count": 3,
   "id": "2f72b9f9-b581-44c1-b229-781c23b2d6b8",
   "metadata": {},
   "outputs": [
    {
     "data": {
      "text/plain": [
       "['Alan',\n",
       " 'Turing,',\n",
       " 'İngiliz',\n",
       " 'matematikçi,',\n",
       " 'bilgisayar',\n",
       " 'bilimci',\n",
       " 've',\n",
       " 'kriptolog.',\n",
       " 'Bilgisayar',\n",
       " 'biliminin',\n",
       " 'kurucusu',\n",
       " 'sayılır.',\n",
       " 'Geliştirmiş',\n",
       " 'olduğu',\n",
       " 'Turing',\n",
       " 'testi',\n",
       " 'ile',\n",
       " 'makinelerin',\n",
       " 've',\n",
       " 'bilgisayarların',\n",
       " 'düşünme',\n",
       " 'yetisine',\n",
       " 'sahip',\n",
       " 'olup',\n",
       " 'olamayacakları',\n",
       " 'konusunda',\n",
       " 'bir',\n",
       " 'kriter',\n",
       " 'öne',\n",
       " 'sürmüştür.']"
      ]
     },
     "execution_count": 3,
     "metadata": {},
     "output_type": "execute_result"
    }
   ],
   "source": [
    "text.split()"
   ]
  },
  {
   "cell_type": "code",
   "execution_count": 4,
   "id": "d0b4880b-c284-4edf-81f3-8232077ab07b",
   "metadata": {},
   "outputs": [
    {
     "data": {
      "text/plain": [
       "['Alan',\n",
       " 'Turing',\n",
       " ',',\n",
       " 'İngiliz',\n",
       " 'matematikçi',\n",
       " ',',\n",
       " 'bilgisayar',\n",
       " 'bilimci',\n",
       " 've',\n",
       " 'kriptolog',\n",
       " '.',\n",
       " 'Bilgisayar',\n",
       " 'biliminin',\n",
       " 'kurucusu',\n",
       " 'sayılır',\n",
       " '.',\n",
       " 'Geliştirmiş',\n",
       " 'olduğu',\n",
       " 'Turing',\n",
       " 'testi',\n",
       " 'ile',\n",
       " 'makinelerin',\n",
       " 've',\n",
       " 'bilgisayarların',\n",
       " 'düşünme',\n",
       " 'yetisine',\n",
       " 'sahip',\n",
       " 'olup',\n",
       " 'olamayacakları',\n",
       " 'konusunda',\n",
       " 'bir',\n",
       " 'kriter',\n",
       " 'öne',\n",
       " 'sürmüştür',\n",
       " '.']"
      ]
     },
     "execution_count": 4,
     "metadata": {},
     "output_type": "execute_result"
    }
   ],
   "source": [
    "word_tokenize(text)"
   ]
  },
  {
   "cell_type": "code",
   "execution_count": 5,
   "id": "d442f8ff-8320-40d5-b512-5ab4e83ea96c",
   "metadata": {},
   "outputs": [
    {
     "data": {
      "text/plain": [
       "['Alan Turing, İngiliz matematikçi, bilgisayar bilimci ve kriptolog.',\n",
       " 'Bilgisayar biliminin kurucusu sayılır.',\n",
       " 'Geliştirmiş olduğu Turing testi ile makinelerin ve bilgisayarların düşünme yetisine sahip olup olamayacakları konusunda bir kriter öne sürmüştür.']"
      ]
     },
     "execution_count": 5,
     "metadata": {},
     "output_type": "execute_result"
    }
   ],
   "source": [
    "sent_tokenize(text)"
   ]
  },
  {
   "cell_type": "code",
   "execution_count": 6,
   "id": "5c26e464-672b-406d-9ad1-5901d7784b98",
   "metadata": {},
   "outputs": [
    {
     "name": "stdout",
     "output_type": "stream",
     "text": [
      "Alan\n",
      "Turing\n",
      ",\n",
      "İngiliz\n",
      "matematikçi\n",
      ",\n",
      "bilgisayar\n",
      "bilimci\n",
      "ve\n",
      "kriptolog\n",
      ".\n",
      "Bilgisayar\n",
      "biliminin\n",
      "kurucusu\n",
      "sayılır\n",
      ".\n",
      "Geliştirmiş\n",
      "olduğu\n",
      "Turing\n",
      "testi\n",
      "ile\n",
      "makinelerin\n",
      "ve\n",
      "bilgisayarların\n",
      "düşünme\n",
      "yetisine\n",
      "sahip\n",
      "olup\n",
      "olamayacakları\n",
      "konusunda\n",
      "bir\n",
      "kriter\n",
      "öne\n",
      "sürmüştür\n",
      ".\n"
     ]
    }
   ],
   "source": [
    "for token in word_tokenize(text):\n",
    "   print(token)"
   ]
  },
  {
   "cell_type": "code",
   "execution_count": null,
   "id": "f6730da5-adab-4543-962d-d97d9ff6314b",
   "metadata": {},
   "outputs": [],
   "source": []
  }
 ],
 "metadata": {
  "kernelspec": {
   "display_name": "Python 3 (ipykernel)",
   "language": "python",
   "name": "python3"
  },
  "language_info": {
   "codemirror_mode": {
    "name": "ipython",
    "version": 3
   },
   "file_extension": ".py",
   "mimetype": "text/x-python",
   "name": "python",
   "nbconvert_exporter": "python",
   "pygments_lexer": "ipython3",
   "version": "3.11.5"
  }
 },
 "nbformat": 4,
 "nbformat_minor": 5
}
