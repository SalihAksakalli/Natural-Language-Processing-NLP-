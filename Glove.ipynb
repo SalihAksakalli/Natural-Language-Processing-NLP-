{
 "cells": [
  {
   "cell_type": "code",
   "execution_count": 1,
   "id": "18b10092-2a78-491f-aead-cd22e3e6a0ce",
   "metadata": {},
   "outputs": [],
   "source": [
    "from gensim.scripts.glove2word2vec import glove2word2vec\n",
    "from gensim.models import KeyedVectors"
   ]
  },
  {
   "cell_type": "code",
   "execution_count": 2,
   "id": "7d797cf5-33ba-4fcf-a5e6-5db385ec65ac",
   "metadata": {},
   "outputs": [
    {
     "name": "stderr",
     "output_type": "stream",
     "text": [
      "C:\\Users\\pc\\AppData\\Local\\Temp\\ipykernel_9596\\130940253.py:3: DeprecationWarning: Call to deprecated `glove2word2vec` (KeyedVectors.load_word2vec_format(.., binary=False, no_header=True) loads GLoVE text vectors.).\n",
      "  glove2word2vec(glove_input, word2vec_output)\n"
     ]
    },
    {
     "data": {
      "text/plain": [
       "(400000, 100)"
      ]
     },
     "execution_count": 2,
     "metadata": {},
     "output_type": "execute_result"
    }
   ],
   "source": [
    "glove_input = 'glove.6B.100d.txt'\n",
    "word2vec_output = 'glove.6B.100d.word2vec'\n",
    "glove2word2vec(glove_input, word2vec_output)"
   ]
  },
  {
   "cell_type": "code",
   "execution_count": 3,
   "id": "d8bf5fcd-c9f3-498b-9c9e-144fb26c1c52",
   "metadata": {},
   "outputs": [],
   "source": [
    "model = KeyedVectors.load_word2vec_format(word2vec_output, binary=False)"
   ]
  },
  {
   "cell_type": "code",
   "execution_count": 4,
   "id": "0277dbf0-a244-41f4-aab7-0cc8904e0e19",
   "metadata": {},
   "outputs": [
    {
     "data": {
      "text/plain": [
       "array([ 0.40378  ,  0.019734 , -0.15499  , -0.26948  ,  0.33938  ,\n",
       "        0.46476  , -0.53141  ,  0.094519 ,  0.45399  ,  1.3385   ,\n",
       "        0.18271  , -0.3465   ,  0.28323  ,  0.70829  , -0.75002  ,\n",
       "        0.016359 , -0.64514  , -0.54882  , -0.75309  , -0.21617  ,\n",
       "        0.13678  , -0.25198  , -0.037552 ,  0.35938  , -0.33532  ,\n",
       "       -0.78733  ,  0.10907  , -0.13902  ,  0.53454  ,  0.58805  ,\n",
       "       -1.1348   , -0.14574  ,  0.20244  ,  0.81909  , -0.27482  ,\n",
       "        0.14045  ,  0.68814  ,  0.70236  , -0.34211  , -0.62128  ,\n",
       "       -0.10601  , -0.62413  ,  0.30536  , -0.44325  ,  0.64016  ,\n",
       "        0.0020673,  0.88252  ,  0.050356 , -0.35739  ,  0.54686  ,\n",
       "        0.11974  , -0.12593  ,  0.74211  ,  0.65482  , -1.4018   ,\n",
       "       -1.1218   , -0.21188  ,  0.35338  ,  0.53459  ,  0.20205  ,\n",
       "       -0.86132  ,  0.82773  , -0.10065  , -0.19766  , -0.85631  ,\n",
       "        0.27891  , -1.3381   ,  0.19368  , -0.70602  ,  0.067972 ,\n",
       "       -0.80953  , -0.65974  ,  0.50856  , -0.020009 , -0.7665   ,\n",
       "       -0.21865  ,  0.11584  , -0.23323  , -0.73037  ,  0.25433  ,\n",
       "        0.51655  , -0.031959 , -0.34603  ,  0.016619 ,  0.36089  ,\n",
       "       -0.25636  , -0.86198  , -0.16575  , -0.084256 ,  0.21918  ,\n",
       "        0.7003   ,  0.14982  , -0.083508 , -0.16968  , -0.5801   ,\n",
       "        0.96829  ,  0.40106  ,  0.16945  ,  0.74681  ,  0.26952  ],\n",
       "      dtype=float32)"
      ]
     },
     "execution_count": 4,
     "metadata": {},
     "output_type": "execute_result"
    }
   ],
   "source": [
    "model['istanbul']"
   ]
  },
  {
   "cell_type": "code",
   "execution_count": 7,
   "id": "af3c8d94-8e49-4c8f-955b-2c63c50132fd",
   "metadata": {},
   "outputs": [
    {
     "data": {
      "text/plain": [
       "[('saruman', 0.6446703672409058),\n",
       " ('aragorn', 0.6229813098907471),\n",
       " ('frodo', 0.607885479927063),\n",
       " ('gollum', 0.5799626708030701),\n",
       " ('mckellen', 0.5513889789581299),\n",
       " ('bilbo', 0.5447685718536377),\n",
       " ('beelzebub', 0.526114821434021),\n",
       " ('lupin', 0.5255599617958069),\n",
       " ('wizard', 0.5206698775291443),\n",
       " ('starfire', 0.517367959022522)]"
      ]
     },
     "execution_count": 7,
     "metadata": {},
     "output_type": "execute_result"
    }
   ],
   "source": [
    "model.most_similar('gandalf')"
   ]
  },
  {
   "cell_type": "code",
   "execution_count": 8,
   "id": "5b4a0825-7993-467b-8ca0-f47e6e998d69",
   "metadata": {},
   "outputs": [
    {
     "data": {
      "text/plain": [
       "[('kangaroos', 0.612468957901001),\n",
       " ('squirrel', 0.5469585061073303),\n",
       " ('rat', 0.5455618500709534),\n",
       " ('mule', 0.5324220657348633),\n",
       " ('elephant', 0.5309096574783325),\n",
       " ('snake', 0.5248682498931885),\n",
       " ('monkey', 0.5218598246574402),\n",
       " ('parrot', 0.5193796157836914),\n",
       " ('sheep', 0.5146180987358093),\n",
       " ('shark', 0.5082204937934875)]"
      ]
     },
     "execution_count": 8,
     "metadata": {},
     "output_type": "execute_result"
    }
   ],
   "source": [
    "model.most_similar('kangaroo')"
   ]
  },
  {
   "cell_type": "code",
   "execution_count": 9,
   "id": "d0191683-a04c-41fe-b821-1d54eaa2db17",
   "metadata": {},
   "outputs": [
    {
     "data": {
      "text/plain": [
       "[('queen', 0.7698541283607483)]"
      ]
     },
     "execution_count": 9,
     "metadata": {},
     "output_type": "execute_result"
    }
   ],
   "source": [
    "model.most_similar(positive=[\"woman\",\"king\"],negative=[\"man\"],topn=1)"
   ]
  },
  {
   "cell_type": "code",
   "execution_count": 10,
   "id": "d85690f9-0a80-446c-acf7-028071273b9c",
   "metadata": {},
   "outputs": [
    {
     "data": {
      "text/plain": [
       "[('mother', 0.9024619460105896)]"
      ]
     },
     "execution_count": 10,
     "metadata": {},
     "output_type": "execute_result"
    }
   ],
   "source": [
    "model.most_similar(positive=[\"woman\",\"father\"],negative=[\"man\"],topn=1)"
   ]
  },
  {
   "cell_type": "code",
   "execution_count": 11,
   "id": "36c7770a-d883-41f8-b4bb-34fcc62d7290",
   "metadata": {},
   "outputs": [
    {
     "data": {
      "text/plain": [
       "[('daughter', 0.9090957045555115)]"
      ]
     },
     "execution_count": 11,
     "metadata": {},
     "output_type": "execute_result"
    }
   ],
   "source": [
    "model.most_similar(positive=[\"woman\",\"son\"],negative=[\"man\"],topn=1)"
   ]
  },
  {
   "cell_type": "code",
   "execution_count": 13,
   "id": "9e4e8591-0d1e-4c45-8358-d9e84f67d7cd",
   "metadata": {},
   "outputs": [
    {
     "data": {
      "text/plain": [
       "[('turkey', 0.81471186876297)]"
      ]
     },
     "execution_count": 13,
     "metadata": {},
     "output_type": "execute_result"
    }
   ],
   "source": [
    "model.most_similar(positive=[\"ankara\",\"germany\"],negative=[\"berlin\"],topn=1)"
   ]
  },
  {
   "cell_type": "code",
   "execution_count": 14,
   "id": "fefc6d3c-73a1-4017-a079-401d00ab1d86",
   "metadata": {},
   "outputs": [
    {
     "data": {
      "text/plain": [
       "[('france', 0.8984007239341736)]"
      ]
     },
     "execution_count": 14,
     "metadata": {},
     "output_type": "execute_result"
    }
   ],
   "source": [
    "model.most_similar(positive=[\"paris\",\"germany\"],negative=[\"berlin\"],topn=1)"
   ]
  },
  {
   "cell_type": "code",
   "execution_count": 16,
   "id": "0fc51d74-edac-4216-b3a2-278e01043ab3",
   "metadata": {},
   "outputs": [
    {
     "data": {
      "text/plain": [
       "[('teacher', 0.7610154151916504)]"
      ]
     },
     "execution_count": 16,
     "metadata": {},
     "output_type": "execute_result"
    }
   ],
   "source": [
    "model.most_similar(positive=[\"teach\",\"doctor\"],negative=[\"treat\"],topn=1)"
   ]
  }
 ],
 "metadata": {
  "kernelspec": {
   "display_name": "Python 3 (ipykernel)",
   "language": "python",
   "name": "python3"
  },
  "language_info": {
   "codemirror_mode": {
    "name": "ipython",
    "version": 3
   },
   "file_extension": ".py",
   "mimetype": "text/x-python",
   "name": "python",
   "nbconvert_exporter": "python",
   "pygments_lexer": "ipython3",
   "version": "3.11.5"
  }
 },
 "nbformat": 4,
 "nbformat_minor": 5
}
