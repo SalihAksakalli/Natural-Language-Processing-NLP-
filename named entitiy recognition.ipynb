{
 "cells": [
  {
   "cell_type": "code",
   "execution_count": 1,
   "id": "b5b66c2d-1fa9-4345-9d2f-985d173a735b",
   "metadata": {},
   "outputs": [],
   "source": [
    "import nltk"
   ]
  },
  {
   "cell_type": "code",
   "execution_count": 2,
   "id": "91d2158d-5f39-48c1-bb1b-0dc9e4cc3abf",
   "metadata": {},
   "outputs": [],
   "source": [
    "text = \"Steve Jobs was an American entrepreneur and business magnate. He was the chairman, chief executive officer (CEO), and a co-founder of Apple Inc., chairman and majority shareholder of Pixar, a member of The Walt Disney Company's board of directors following its acquisition of Pixar, and the founder, chairman, and CEO of NeXT. Jobs is widely recognized as a pioneer of the microcomputer revolution of the 1970s and 1980s, along with Apple co-founder Steve Wozniak. \""
   ]
  },
  {
   "cell_type": "code",
   "execution_count": 3,
   "id": "b8642669-fdd2-4e67-8408-b1a6228a9917",
   "metadata": {},
   "outputs": [],
   "source": [
    "tokinized = nltk.word_tokenize(text)"
   ]
  },
  {
   "cell_type": "code",
   "execution_count": 4,
   "id": "08ec1095-7662-495e-92bf-850ec3d8bbdf",
   "metadata": {},
   "outputs": [
    {
     "data": {
      "text/plain": [
       "['Steve',\n",
       " 'Jobs',\n",
       " 'was',\n",
       " 'an',\n",
       " 'American',\n",
       " 'entrepreneur',\n",
       " 'and',\n",
       " 'business',\n",
       " 'magnate',\n",
       " '.',\n",
       " 'He',\n",
       " 'was',\n",
       " 'the',\n",
       " 'chairman',\n",
       " ',',\n",
       " 'chief',\n",
       " 'executive',\n",
       " 'officer',\n",
       " '(',\n",
       " 'CEO',\n",
       " ')',\n",
       " ',',\n",
       " 'and',\n",
       " 'a',\n",
       " 'co-founder',\n",
       " 'of',\n",
       " 'Apple',\n",
       " 'Inc.',\n",
       " ',',\n",
       " 'chairman',\n",
       " 'and',\n",
       " 'majority',\n",
       " 'shareholder',\n",
       " 'of',\n",
       " 'Pixar',\n",
       " ',',\n",
       " 'a',\n",
       " 'member',\n",
       " 'of',\n",
       " 'The',\n",
       " 'Walt',\n",
       " 'Disney',\n",
       " 'Company',\n",
       " \"'s\",\n",
       " 'board',\n",
       " 'of',\n",
       " 'directors',\n",
       " 'following',\n",
       " 'its',\n",
       " 'acquisition',\n",
       " 'of',\n",
       " 'Pixar',\n",
       " ',',\n",
       " 'and',\n",
       " 'the',\n",
       " 'founder',\n",
       " ',',\n",
       " 'chairman',\n",
       " ',',\n",
       " 'and',\n",
       " 'CEO',\n",
       " 'of',\n",
       " 'NeXT',\n",
       " '.',\n",
       " 'Jobs',\n",
       " 'is',\n",
       " 'widely',\n",
       " 'recognized',\n",
       " 'as',\n",
       " 'a',\n",
       " 'pioneer',\n",
       " 'of',\n",
       " 'the',\n",
       " 'microcomputer',\n",
       " 'revolution',\n",
       " 'of',\n",
       " 'the',\n",
       " '1970s',\n",
       " 'and',\n",
       " '1980s',\n",
       " ',',\n",
       " 'along',\n",
       " 'with',\n",
       " 'Apple',\n",
       " 'co-founder',\n",
       " 'Steve',\n",
       " 'Wozniak',\n",
       " '.']"
      ]
     },
     "execution_count": 4,
     "metadata": {},
     "output_type": "execute_result"
    }
   ],
   "source": [
    "tokinized"
   ]
  },
  {
   "cell_type": "code",
   "execution_count": 5,
   "id": "f8c57aee-a4cb-4129-8560-7093e3feec0a",
   "metadata": {},
   "outputs": [],
   "source": [
    "tagged = nltk.pos_tag(tokinized) # Cümlenin öglerine  ayrılma "
   ]
  },
  {
   "cell_type": "code",
   "execution_count": 6,
   "id": "796cf328-a042-46a0-9f3c-e5d29ff3e511",
   "metadata": {},
   "outputs": [
    {
     "data": {
      "text/plain": [
       "[('Steve', 'NNP'),\n",
       " ('Jobs', 'NNP'),\n",
       " ('was', 'VBD'),\n",
       " ('an', 'DT'),\n",
       " ('American', 'JJ'),\n",
       " ('entrepreneur', 'NN'),\n",
       " ('and', 'CC'),\n",
       " ('business', 'NN'),\n",
       " ('magnate', 'NN'),\n",
       " ('.', '.'),\n",
       " ('He', 'PRP'),\n",
       " ('was', 'VBD'),\n",
       " ('the', 'DT'),\n",
       " ('chairman', 'NN'),\n",
       " (',', ','),\n",
       " ('chief', 'JJ'),\n",
       " ('executive', 'NN'),\n",
       " ('officer', 'NN'),\n",
       " ('(', '('),\n",
       " ('CEO', 'NNP'),\n",
       " (')', ')'),\n",
       " (',', ','),\n",
       " ('and', 'CC'),\n",
       " ('a', 'DT'),\n",
       " ('co-founder', 'NN'),\n",
       " ('of', 'IN'),\n",
       " ('Apple', 'NNP'),\n",
       " ('Inc.', 'NNP'),\n",
       " (',', ','),\n",
       " ('chairman', 'NN'),\n",
       " ('and', 'CC'),\n",
       " ('majority', 'NN'),\n",
       " ('shareholder', 'NN'),\n",
       " ('of', 'IN'),\n",
       " ('Pixar', 'NNP'),\n",
       " (',', ','),\n",
       " ('a', 'DT'),\n",
       " ('member', 'NN'),\n",
       " ('of', 'IN'),\n",
       " ('The', 'DT'),\n",
       " ('Walt', 'NNP'),\n",
       " ('Disney', 'NNP'),\n",
       " ('Company', 'NNP'),\n",
       " (\"'s\", 'POS'),\n",
       " ('board', 'NN'),\n",
       " ('of', 'IN'),\n",
       " ('directors', 'NNS'),\n",
       " ('following', 'VBG'),\n",
       " ('its', 'PRP$'),\n",
       " ('acquisition', 'NN'),\n",
       " ('of', 'IN'),\n",
       " ('Pixar', 'NNP'),\n",
       " (',', ','),\n",
       " ('and', 'CC'),\n",
       " ('the', 'DT'),\n",
       " ('founder', 'NN'),\n",
       " (',', ','),\n",
       " ('chairman', 'NN'),\n",
       " (',', ','),\n",
       " ('and', 'CC'),\n",
       " ('CEO', 'NNP'),\n",
       " ('of', 'IN'),\n",
       " ('NeXT', 'NNP'),\n",
       " ('.', '.'),\n",
       " ('Jobs', 'NNP'),\n",
       " ('is', 'VBZ'),\n",
       " ('widely', 'RB'),\n",
       " ('recognized', 'VBN'),\n",
       " ('as', 'IN'),\n",
       " ('a', 'DT'),\n",
       " ('pioneer', 'NN'),\n",
       " ('of', 'IN'),\n",
       " ('the', 'DT'),\n",
       " ('microcomputer', 'NN'),\n",
       " ('revolution', 'NN'),\n",
       " ('of', 'IN'),\n",
       " ('the', 'DT'),\n",
       " ('1970s', 'CD'),\n",
       " ('and', 'CC'),\n",
       " ('1980s', 'CD'),\n",
       " (',', ','),\n",
       " ('along', 'IN'),\n",
       " ('with', 'IN'),\n",
       " ('Apple', 'NNP'),\n",
       " ('co-founder', 'NN'),\n",
       " ('Steve', 'NNP'),\n",
       " ('Wozniak', 'NNP'),\n",
       " ('.', '.')]"
      ]
     },
     "execution_count": 6,
     "metadata": {},
     "output_type": "execute_result"
    }
   ],
   "source": [
    "tagged"
   ]
  },
  {
   "cell_type": "code",
   "execution_count": 7,
   "id": "7a697570-efa1-48f2-b388-c16b88a53785",
   "metadata": {},
   "outputs": [],
   "source": [
    "nemed_ent =  nltk.ne_chunk(tagged)"
   ]
  },
  {
   "cell_type": "code",
   "execution_count": 9,
   "id": "8d205446-64c9-4cb3-a3be-e4acfb8bd287",
   "metadata": {},
   "outputs": [],
   "source": [
    "nemed_ent.draw()"
   ]
  },
  {
   "cell_type": "code",
   "execution_count": 10,
   "id": "a3648a10-1687-479e-a71c-91f3fef525df",
   "metadata": {},
   "outputs": [
    {
     "data": {
      "text/plain": [
       "'\\nNE Türü         \\tÖrnek\\nORGANIZATION    \\tGeorgia-Pacific Corp., WHO\\nPERSON          \\tEddy Bonte, President Obama\\nLOCATION        \\tMurray River, Mount Everest\\nDATE            \\tJune, 2008-06-29\\nTIME            \\ttwo fifty a m, 1:30 p.m.\\nMONEY           \\t175 million Canadian Dollars, GBP 10.40\\nPERCENT         \\ttwenty pct, 18.75 %\\nFACILITY        \\tWashington Monument, Stonehenge\\nGPE             \\tSouth East Asia, Midlothian\\n'"
      ]
     },
     "execution_count": 10,
     "metadata": {},
     "output_type": "execute_result"
    }
   ],
   "source": [
    "\"\"\"\n",
    "NE Türü         \tÖrnek\n",
    "ORGANIZATION    \tGeorgia-Pacific Corp., WHO\n",
    "PERSON          \tEddy Bonte, President Obama\n",
    "LOCATION        \tMurray River, Mount Everest\n",
    "DATE            \tJune, 2008-06-29\n",
    "TIME            \ttwo fifty a m, 1:30 p.m.\n",
    "MONEY           \t175 million Canadian Dollars, GBP 10.40\n",
    "PERCENT         \ttwenty pct, 18.75 %\n",
    "FACILITY        \tWashington Monument, Stonehenge\n",
    "GPE             \tSouth East Asia, Midlothian\n",
    "\"\"\""
   ]
  },
  {
   "cell_type": "code",
   "execution_count": null,
   "id": "4efcb5a9-b9cb-4a9f-bac4-04e988ed993f",
   "metadata": {},
   "outputs": [],
   "source": []
  }
 ],
 "metadata": {
  "kernelspec": {
   "display_name": "Python 3 (ipykernel)",
   "language": "python",
   "name": "python3"
  },
  "language_info": {
   "codemirror_mode": {
    "name": "ipython",
    "version": 3
   },
   "file_extension": ".py",
   "mimetype": "text/x-python",
   "name": "python",
   "nbconvert_exporter": "python",
   "pygments_lexer": "ipython3",
   "version": "3.11.5"
  }
 },
 "nbformat": 4,
 "nbformat_minor": 5
}
